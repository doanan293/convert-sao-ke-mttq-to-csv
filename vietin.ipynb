{
 "cells": [
  {
   "cell_type": "code",
   "id": "initial_id",
   "metadata": {
    "collapsed": true,
    "ExecuteTime": {
     "end_time": "2024-09-18T04:36:27.680354Z",
     "start_time": "2024-09-18T04:36:27.384455Z"
    }
   },
   "source": [
    "# Download PDF file\n",
    "import os\n",
    "from operator import lshift\n",
    "import requests\n",
    "import pandas as pd\n",
    "# Get PDF document\n",
    "# pdf_path = \"./Data/Data_pdf/vietcom11.pdf\"\n",
    "pdf_path = \"./Data/Data_pdf/vietin.pdf\"\n",
    "\n",
    "# Download PDF if it doesn't already exist\n",
    "if not os.path.exists(pdf_path):\n",
    "  print(\"File doesn't exist, downloading...\")\n",
    "else:\n",
    "  print(f\"File {pdf_path} exists.\")"
   ],
   "outputs": [
    {
     "name": "stdout",
     "output_type": "stream",
     "text": [
      "File ./Data/Data_pdf/vietin.pdf exists.\n"
     ]
    }
   ],
   "execution_count": 1
  },
  {
   "metadata": {
    "ExecuteTime": {
     "end_time": "2024-09-18T04:36:45.550979Z",
     "start_time": "2024-09-18T04:36:30.613513Z"
    }
   },
   "cell_type": "code",
   "source": [
    "# Requires !pip install PyMuPDF, see: https://github.com/pymupdf/pymupdf\n",
    "import fitz # (pymupdf, found this is better than pypdf for our use case, note: licence is AGPL-3.0, keep that in mind if you want to use any code commercially)\n",
    "from tqdm.auto import tqdm # for progress bars, requires !pip install tqdm \n",
    "\n",
    "def text_formatter(text: str) -> str:\n",
    "    \"\"\"Performs minor formatting on text.\"\"\"\n",
    "    cleaned_text = text.replace(\"\\n\", \" \").strip() # note: this might be different for each doc (best to experiment)\n",
    "\n",
    "    # Other potential text formatting functions can go here\n",
    "    return cleaned_text\n",
    "\n",
    "# Open PDF and get lines/pages\n",
    "# Note: this only focuses on text, rather than images/figures etc\n",
    "def open_and_read_pdf(pdf_path: str) -> list[dict]:\n",
    "    \"\"\"\n",
    "    Opens a PDF file, reads its text content page by page, and collects statistics.\n",
    "\n",
    "    Parameters:\n",
    "        pdf_path (str): The file path to the PDF document to be opened and read.\n",
    "\n",
    "    Returns:\n",
    "        list[dict]: A list of dictionaries, each containing the page number\n",
    "        (adjusted), character count, word count, sentence count, token count, and the extracted text\n",
    "        for each page.\n",
    "    \"\"\"\n",
    "    doc = fitz.open(pdf_path)  # open a document\n",
    "    pages_and_texts = []\n",
    "    for page_number, page in tqdm(enumerate(doc)):  # iterate the document pages\n",
    "        text = page.get_text()  # get plain text encoded as UTF-8\n",
    "        text = text_formatter(text)\n",
    "        # pages_and_texts.append({\"page_number\": page_number+1,  # adjust page numbers since our PDF starts on page 42\n",
    "        #                         \"page_char_count\": len(text),\n",
    "        #                         \"page_word_count\": len(text.split(\" \")),\n",
    "        #                         \"page_sentence_count_raw\": len(text.split(\". \")),\n",
    "        #                         \"page_token_count\": len(text) / 4,  # 1 token = ~4 chars, see: https://help.openai.com/en/articles/4936856-what-are-tokens-and-how-to-count-them\n",
    "        #                         \"text\": text})\n",
    "        pages_and_texts.append({\"page_number\": page_number+1,  # adjust page numbers since our PDF starts on page 42\n",
    "                                \"page_char_count\": len(text),\n",
    "                                \"page_word_count\": len(text.split(\" \")),\n",
    "                                \"page_sentence_count_raw\": len(text.split(\". \")),\n",
    "                                \"page_token_count\": len(text) / 4,  # 1 token = ~4 chars, see: https://help.openai.com/en/articles/4936856-what-are-tokens-and-how-to-count-them\n",
    "                                \"text\": text})\n",
    "    return pages_and_texts\n",
    "\n",
    "\n",
    "pages_and_texts = open_and_read_pdf(pdf_path=pdf_path)\n"
   ],
   "id": "a69b00ee09486897",
   "outputs": [
    {
     "name": "stderr",
     "output_type": "stream",
     "text": [
      "/home/admin_hieunn/andoan/pdf2csv/.venv/lib/python3.10/site-packages/tqdm/auto.py:21: TqdmWarning: IProgress not found. Please update jupyter and ipywidgets. See https://ipywidgets.readthedocs.io/en/stable/user_install.html\n",
      "  from .autonotebook import tqdm as notebook_tqdm\n",
      "2009it [00:14, 137.40it/s]\n"
     ]
    }
   ],
   "execution_count": 2
  },
  {
   "metadata": {
    "ExecuteTime": {
     "end_time": "2024-09-18T04:36:47.402848Z",
     "start_time": "2024-09-18T04:36:47.392492Z"
    }
   },
   "cell_type": "code",
   "source": "pages_and_texts[:2]",
   "id": "dc4de414ceb06813",
   "outputs": [
    {
     "data": {
      "text/plain": [
       "[{'page_number': 1,\n",
       "  'page_char_count': 2773,\n",
       "  'page_word_count': 572,\n",
       "  'page_sentence_count_raw': 3,\n",
       "  'page_token_count': 693.25,\n",
       "  'text': 'STT Ngày GD Mô tả giao dịch Tên đối ứng No Date Time Transaction Comment Offset Name 1 10/09/2024  12:01:29 CT nhanh 247 den: TRAN TIEN ANH chuyen  tien ung ho nguoi dan vung bao lu TRAN TIEN ANH – A/C 2 10/09/2024  12:01:46 CT nhanh 247 den: Phuong Quynh Le chuyen  tien LE PHUONG QUYNH – A/C 3 10/09/2024  13:33:47 TRAN TRONG SON Chuyen tien ung ho  (CT1111) TRAN TRONG SON – A/C 4 10/09/2024  13:34:31 NGUYEN THU BINH chuyen tien ung ho  (CT1111) NGUYEN THU BINH – A/C 5 10/09/2024  13:37:09 Chuyen tien den tu NAPAS Noi dung: NGUYEN  THU BINH chuyen ung ho FT24254607609791  (CT1111) VND-TGTT-NGUYEN THU BINH – A/C 6 10/09/2024  13:38:18 Chuyen tien den tu NAPAS Noi dung: NGUYEN  HONG SON chuyen tien den BAN VAN DONG  CUU TRO TRUNG UONG - ct1111 (ct1111) ACC – A/C 7 10/09/2024  13:56:55 NGUYEN THU BINH chuyen tien ung ho  (CT1111) NGUYEN THU BINH – A/C 8 10/09/2024  14:10:24 UNG HO TIEN MAT, VANG TIEN TE TAI DON VI  – A/C 9 10/09/2024  14:48:37 BUI THI LINH chuyen tien (CT1111) BUI THI LINH – A/C 10 10/09/2024  14:58:45 CT nhanh 247 den:  MBVCB.6993160493.196699.BUI QUOC HUNG  chuyen tien. BUI QUOC HUNG – A/C 11 10/09/2024  15:05:36 CT nhanh 247 den:  MBVCB.6993230328.242018.NGUYEN HOAI  NAM ung ho ban cuu tro tw. NGUYEN HOAI NAM – A/C 12 10/09/2024  15:12:46 Chuyen tien den tu NAPAS Noi dung: Duong Thi  Ngoc Linh chuyen tien DUONG THI NGOC LINH – A/C 13 10/09/2024  16:26:41 CT nhanh 247 den: NGUYEN DUC THANG  CHUYEN TIEN UNG HO BAO SO 3 (CT1111) NGUYEN DUC THANG – A/C 14 10/09/2024  17:21:53 PHAM THI THANH PHUONG chuyen tien ung ho  (CT1111) PHAM THI THANH PHUONG – A/C 15 10/09/2024  17:56:45 CT nhanh 247 den: Vietinbank;ct1111;LE THI  HUONG chuyen tien (ct1111) LE THI HUONG – A/C 16 10/09/2024  17:57:13 UNG HO DONG BAO BI THIET HAI DO CON  BAO SO 3 GAY RA (CT1111) TRAN DINH KHUE – A/C 17 10/09/2024  17:59:35 Chuyen tien den tu NAPAS Noi dung: UNG HO  DONG BAO BI THIET HAI DO CON BAO SO 3- 100924-17:59:35 634414 (CT1111) PHAM THI HOAI THU – A/C 18 10/09/2024  18:02:04 Chuyen tien den tu NAPAS Noi dung: chuyen  tien ung ho dong bao lu lut FT24254021870119 VND-TGTT-CHU DUC HOAN – A/C         Page 1 of 1   Ngân Hàng TMCP Công Thương Việt Nam                      Chi nhánh Branch: 10698 - CN TP HA NOI - HOI SO SAO KÊ CHI TIẾT GIAO DỊCH TRANSACTIONS STATEMENT Từ ngày 10/09/2024  Đến ngày 12/09/2024 Kính gửi quý khách hàng Dear Customer : BAN VAN DONG CUU TRO TRUNG UONG  Địa chỉ Address : 46 TRANG THI QUAN HOAN KIEM TP HA NOI VIET NAM Vietinbank xin trân trọng thông báo Sao kê giao dịch Tài khoản số: 111602391111 của quý khách hàng như  sau: Loại tiền tệ Currency  VND (Có) Credit 300.000 100.000 100.000 100.000 100.000 500.000 50.000 10.000 200.000 200.000 50.000 50.000 3.000.000 2.000.000 1.000.000 500.000 2.000.000 500.000 Số tiền'},\n",
       " {'page_number': 2,\n",
       "  'page_char_count': 3676,\n",
       "  'page_word_count': 721,\n",
       "  'page_sentence_count_raw': 6,\n",
       "  'page_token_count': 919.0,\n",
       "  'text': '19 10/09/2024  18:03:48 CT nhanh 247 den:  MBVCB.6995532964.667557.Bs Tien ung ho  dong bao bao lu. HOANG SY TIEN – A/C 20 10/09/2024  18:07:56 VU DANG THANH THAO chuyen tien VU DANG THANH THAO – A/C 21 10/09/2024  18:10:59 CT nhanh 247 den:  MBVCB.6995647944.731496.NGUYEN VAN  TIEN chuyen tien. NGUYEN VAN TIEN – A/C 22 10/09/2024  18:11:51 Tam long bguoi con VN ung ho ba con mien Bac  than yeu (CT1111) LAI NGOC LINH – A/C 23 10/09/2024  18:14:26 NGUYEN THI HAI YEN ct ung ho dong bao lu lut NGUYEN THI HAI YEN – A/C 24 10/09/2024  18:16:07 Chuyen tien den tu NAPAS Noi dung: Nguyen  Thi Hoa chuyen tien Nam Mo Quan The Am Bo  Tat (CT1111) NGUYEN THI HOA – A/C 25 10/09/2024  18:16:10 Chuyen tien den tu NAPAS Noi dung: NGUYEN  NGOC THANG chuyen FT24254608070954  (CT1111) VND-TGTT-NGUYEN NGOC THANG –  A/C 26 10/09/2024  18:19:53 VU DANG QUYNH NHU chuyen tien (CT1111) VU DANG QUYNH NHU – A/C 27 10/09/2024  18:21:04 Chuyen tien den tu NAPAS Noi dung: Ung ho  dong bao bi thiet hai bao lu - Nam mo A Di Da  Phat FT24254991695658 (CT1111) VND-TGTT-NGUYEN HONG LIEN – A/C 28 10/09/2024  18:26:21 CT nhanh 247 den:  MBVCB.6995848199.858512.NGUYEN TU  TRINH chuyen tien ung ho dong bao MB. NGUYEN TU TRINH – A/C 29 10/09/2024  18:27:18 CT nhanh 247 den: DINH HOANG MINH UNG  HO DONG BAO (CT1111) DINH HOANG MINH – A/C 30 10/09/2024  18:28:30 Chuyen tien den tu NAPAS Noi dung: Luu Thanh  Nhan ung ho dong bao bao Yagi  FT24254758001320 VND-TGTT-LUU THANH NHAN – A/C 31 10/09/2024  18:33:34 Ung ho khac phuc hau qua bao so 3 yagi  (CT1111) TRAN THI CAO MAN – A/C 32 10/09/2024  18:35:04 CT nhanh 247 den:  Vietinbank;111602391111;LE PHUONG QUYNH  chuyen tien LE PHUONG QUYNH – A/C 33 10/09/2024  18:38:25 CT nhanh 247 den:  MBVCB.6996001033.960516.NGUYEN PHU  TRONG ung ho dong bao mien bac vuot qua  kho khan. NGUYEN PHU TRONG – A/C 34 10/09/2024  18:39:24 Chuyen tien den tu NAPAS Noi dung: Tran Thi  Kim Xuan ung ho dong bao lu lut bao Yagi  (CT1111) TRAN THI KIM XUAN – A/C 35 10/09/2024  18:41:33 Ung ho dong bao lu lut NGUYEN PHONG THU – A/C 36 10/09/2024  18:41:34 CT nhanh 247 den:  MBVCB.6996042925.987530.Ung Ho Dong Bao  Bao Lu so 3 yagi. VO CONG HUNG – A/C 37 10/09/2024  18:41:39 CT nhanh 247 den: VU DUC TOAN P105 NHA  N03 NGACH 37 NGO 167 TAY SON CK UNG HO VU DUC TOAN – A/C 38 10/09/2024  18:42:24 CT nhanh 247 den: PHAN THANH BIEN  CHUYEN TIEN (CT1111) PHAN THANH BIEN – A/C 39 10/09/2024  18:43:20 CT nhanh 247 den: Ung ho dong bao bao lu  chung suc giup do (CT1111) HA MAI NGA – A/C 40 10/09/2024  18:47:37 HOANG DIEU LINH chuyen tien (CT1111) HOANG DIEU LINH – A/C 41 10/09/2024  18:47:56 Chuyen tien den tu NAPAS Noi dung: DOAN  NGOC QUY DON chuyen ung ho bao lu  FT24254003351868 (CT1111) VND-TGTT-DOAN NGOC QUY DON –  A/C 42 10/09/2024  18:48:12 Chuyen tien den tu NAPAS Noi dung: PHAM  DINH VU CHUYEN KHOAN uhmb (Ct1111) PHAM DINH VU – A/C 43 10/09/2024  18:48:22 Chuyen tien den tu NAPAS Noi dung: TRAN THI  MAI , thon nam , van ninh , mong cai  FT24254613000939 (CT1111) VND-TGTT-TRAN THI MAI – A/C 44 10/09/2024  18:50:37 CT nhanh 247 den: CHAU KHANH VY 6T UNG  HO DB LU LUT (CT1111) DOAN VAN TRUONG – A/C 45 10/09/2024  18:50:39 Chuyen tien den tu NAPAS Noi dung: ung ho  dong bao bi thien tai (ct1111) MBBANK IBFT – A/C 46 10/09/2024  18:52:07 Ung ho dong bao bi bao lu Yagi NGUYEN THI THU HUYEN – A/C 47 10/09/2024  18:52:24 NGUYEN THAI CONG chuyen tien cuu tro lu lut  (CT1111) NGUYEN THAI CONG – A/C 300.000 100.000 500.000 500.000 1.000.000 200.000 1.000.000 2.000.000 1.000.000 100.000 200.000 200.000 50.000 200.000 200.000 52.222 200.000 100.000 1.000.000 500.000 500.000 500.000 200.000 50.000 1.000.000 100.000 300.000 1.000.000 1.000.000'}]"
      ]
     },
     "execution_count": 3,
     "metadata": {},
     "output_type": "execute_result"
    }
   ],
   "execution_count": 3
  },
  {
   "metadata": {
    "ExecuteTime": {
     "end_time": "2024-09-18T04:37:17.375530Z",
     "start_time": "2024-09-18T04:37:17.358122Z"
    }
   },
   "cell_type": "code",
   "source": [
    "import pandas as pd\n",
    "\n",
    "# Strings to remove\n",
    "strings_to_remove = [\"STT Ngày GD Mô tả giao dịch Tên đối ứng No Date Time Transaction Comment Offset Name \"\n",
    "]\n",
    "\n",
    "# Function to remove specified strings\n",
    "def clean_text(text, strings_to_remove):\n",
    "    for string in strings_to_remove:\n",
    "        text = text.replace(string, \"\")\n",
    "    return text.strip()\n",
    "\n",
    "# Cleaning the texts\n",
    "pages_and_texts = [{'page_number': p['page_number'], 'text': clean_text(p['text'], strings_to_remove)} for p in pages_and_texts]"
   ],
   "id": "ef1c79251d8c5788",
   "outputs": [],
   "execution_count": 4
  },
  {
   "metadata": {
    "ExecuteTime": {
     "end_time": "2024-09-18T04:37:27.396047Z",
     "start_time": "2024-09-18T04:37:27.390277Z"
    }
   },
   "cell_type": "code",
   "source": "pages_and_texts[:2]",
   "id": "806f61e41c96f0d0",
   "outputs": [
    {
     "data": {
      "text/plain": [
       "[{'page_number': 1,\n",
       "  'text': '1 10/09/2024  12:01:29 CT nhanh 247 den: TRAN TIEN ANH chuyen  tien ung ho nguoi dan vung bao lu TRAN TIEN ANH – A/C 2 10/09/2024  12:01:46 CT nhanh 247 den: Phuong Quynh Le chuyen  tien LE PHUONG QUYNH – A/C 3 10/09/2024  13:33:47 TRAN TRONG SON Chuyen tien ung ho  (CT1111) TRAN TRONG SON – A/C 4 10/09/2024  13:34:31 NGUYEN THU BINH chuyen tien ung ho  (CT1111) NGUYEN THU BINH – A/C 5 10/09/2024  13:37:09 Chuyen tien den tu NAPAS Noi dung: NGUYEN  THU BINH chuyen ung ho FT24254607609791  (CT1111) VND-TGTT-NGUYEN THU BINH – A/C 6 10/09/2024  13:38:18 Chuyen tien den tu NAPAS Noi dung: NGUYEN  HONG SON chuyen tien den BAN VAN DONG  CUU TRO TRUNG UONG - ct1111 (ct1111) ACC – A/C 7 10/09/2024  13:56:55 NGUYEN THU BINH chuyen tien ung ho  (CT1111) NGUYEN THU BINH – A/C 8 10/09/2024  14:10:24 UNG HO TIEN MAT, VANG TIEN TE TAI DON VI  – A/C 9 10/09/2024  14:48:37 BUI THI LINH chuyen tien (CT1111) BUI THI LINH – A/C 10 10/09/2024  14:58:45 CT nhanh 247 den:  MBVCB.6993160493.196699.BUI QUOC HUNG  chuyen tien. BUI QUOC HUNG – A/C 11 10/09/2024  15:05:36 CT nhanh 247 den:  MBVCB.6993230328.242018.NGUYEN HOAI  NAM ung ho ban cuu tro tw. NGUYEN HOAI NAM – A/C 12 10/09/2024  15:12:46 Chuyen tien den tu NAPAS Noi dung: Duong Thi  Ngoc Linh chuyen tien DUONG THI NGOC LINH – A/C 13 10/09/2024  16:26:41 CT nhanh 247 den: NGUYEN DUC THANG  CHUYEN TIEN UNG HO BAO SO 3 (CT1111) NGUYEN DUC THANG – A/C 14 10/09/2024  17:21:53 PHAM THI THANH PHUONG chuyen tien ung ho  (CT1111) PHAM THI THANH PHUONG – A/C 15 10/09/2024  17:56:45 CT nhanh 247 den: Vietinbank;ct1111;LE THI  HUONG chuyen tien (ct1111) LE THI HUONG – A/C 16 10/09/2024  17:57:13 UNG HO DONG BAO BI THIET HAI DO CON  BAO SO 3 GAY RA (CT1111) TRAN DINH KHUE – A/C 17 10/09/2024  17:59:35 Chuyen tien den tu NAPAS Noi dung: UNG HO  DONG BAO BI THIET HAI DO CON BAO SO 3- 100924-17:59:35 634414 (CT1111) PHAM THI HOAI THU – A/C 18 10/09/2024  18:02:04 Chuyen tien den tu NAPAS Noi dung: chuyen  tien ung ho dong bao lu lut FT24254021870119 VND-TGTT-CHU DUC HOAN – A/C         Page 1 of 1   Ngân Hàng TMCP Công Thương Việt Nam                      Chi nhánh Branch: 10698 - CN TP HA NOI - HOI SO SAO KÊ CHI TIẾT GIAO DỊCH TRANSACTIONS STATEMENT Từ ngày 10/09/2024  Đến ngày 12/09/2024 Kính gửi quý khách hàng Dear Customer : BAN VAN DONG CUU TRO TRUNG UONG  Địa chỉ Address : 46 TRANG THI QUAN HOAN KIEM TP HA NOI VIET NAM Vietinbank xin trân trọng thông báo Sao kê giao dịch Tài khoản số: 111602391111 của quý khách hàng như  sau: Loại tiền tệ Currency  VND (Có) Credit 300.000 100.000 100.000 100.000 100.000 500.000 50.000 10.000 200.000 200.000 50.000 50.000 3.000.000 2.000.000 1.000.000 500.000 2.000.000 500.000 Số tiền'},\n",
       " {'page_number': 2,\n",
       "  'text': '19 10/09/2024  18:03:48 CT nhanh 247 den:  MBVCB.6995532964.667557.Bs Tien ung ho  dong bao bao lu. HOANG SY TIEN – A/C 20 10/09/2024  18:07:56 VU DANG THANH THAO chuyen tien VU DANG THANH THAO – A/C 21 10/09/2024  18:10:59 CT nhanh 247 den:  MBVCB.6995647944.731496.NGUYEN VAN  TIEN chuyen tien. NGUYEN VAN TIEN – A/C 22 10/09/2024  18:11:51 Tam long bguoi con VN ung ho ba con mien Bac  than yeu (CT1111) LAI NGOC LINH – A/C 23 10/09/2024  18:14:26 NGUYEN THI HAI YEN ct ung ho dong bao lu lut NGUYEN THI HAI YEN – A/C 24 10/09/2024  18:16:07 Chuyen tien den tu NAPAS Noi dung: Nguyen  Thi Hoa chuyen tien Nam Mo Quan The Am Bo  Tat (CT1111) NGUYEN THI HOA – A/C 25 10/09/2024  18:16:10 Chuyen tien den tu NAPAS Noi dung: NGUYEN  NGOC THANG chuyen FT24254608070954  (CT1111) VND-TGTT-NGUYEN NGOC THANG –  A/C 26 10/09/2024  18:19:53 VU DANG QUYNH NHU chuyen tien (CT1111) VU DANG QUYNH NHU – A/C 27 10/09/2024  18:21:04 Chuyen tien den tu NAPAS Noi dung: Ung ho  dong bao bi thiet hai bao lu - Nam mo A Di Da  Phat FT24254991695658 (CT1111) VND-TGTT-NGUYEN HONG LIEN – A/C 28 10/09/2024  18:26:21 CT nhanh 247 den:  MBVCB.6995848199.858512.NGUYEN TU  TRINH chuyen tien ung ho dong bao MB. NGUYEN TU TRINH – A/C 29 10/09/2024  18:27:18 CT nhanh 247 den: DINH HOANG MINH UNG  HO DONG BAO (CT1111) DINH HOANG MINH – A/C 30 10/09/2024  18:28:30 Chuyen tien den tu NAPAS Noi dung: Luu Thanh  Nhan ung ho dong bao bao Yagi  FT24254758001320 VND-TGTT-LUU THANH NHAN – A/C 31 10/09/2024  18:33:34 Ung ho khac phuc hau qua bao so 3 yagi  (CT1111) TRAN THI CAO MAN – A/C 32 10/09/2024  18:35:04 CT nhanh 247 den:  Vietinbank;111602391111;LE PHUONG QUYNH  chuyen tien LE PHUONG QUYNH – A/C 33 10/09/2024  18:38:25 CT nhanh 247 den:  MBVCB.6996001033.960516.NGUYEN PHU  TRONG ung ho dong bao mien bac vuot qua  kho khan. NGUYEN PHU TRONG – A/C 34 10/09/2024  18:39:24 Chuyen tien den tu NAPAS Noi dung: Tran Thi  Kim Xuan ung ho dong bao lu lut bao Yagi  (CT1111) TRAN THI KIM XUAN – A/C 35 10/09/2024  18:41:33 Ung ho dong bao lu lut NGUYEN PHONG THU – A/C 36 10/09/2024  18:41:34 CT nhanh 247 den:  MBVCB.6996042925.987530.Ung Ho Dong Bao  Bao Lu so 3 yagi. VO CONG HUNG – A/C 37 10/09/2024  18:41:39 CT nhanh 247 den: VU DUC TOAN P105 NHA  N03 NGACH 37 NGO 167 TAY SON CK UNG HO VU DUC TOAN – A/C 38 10/09/2024  18:42:24 CT nhanh 247 den: PHAN THANH BIEN  CHUYEN TIEN (CT1111) PHAN THANH BIEN – A/C 39 10/09/2024  18:43:20 CT nhanh 247 den: Ung ho dong bao bao lu  chung suc giup do (CT1111) HA MAI NGA – A/C 40 10/09/2024  18:47:37 HOANG DIEU LINH chuyen tien (CT1111) HOANG DIEU LINH – A/C 41 10/09/2024  18:47:56 Chuyen tien den tu NAPAS Noi dung: DOAN  NGOC QUY DON chuyen ung ho bao lu  FT24254003351868 (CT1111) VND-TGTT-DOAN NGOC QUY DON –  A/C 42 10/09/2024  18:48:12 Chuyen tien den tu NAPAS Noi dung: PHAM  DINH VU CHUYEN KHOAN uhmb (Ct1111) PHAM DINH VU – A/C 43 10/09/2024  18:48:22 Chuyen tien den tu NAPAS Noi dung: TRAN THI  MAI , thon nam , van ninh , mong cai  FT24254613000939 (CT1111) VND-TGTT-TRAN THI MAI – A/C 44 10/09/2024  18:50:37 CT nhanh 247 den: CHAU KHANH VY 6T UNG  HO DB LU LUT (CT1111) DOAN VAN TRUONG – A/C 45 10/09/2024  18:50:39 Chuyen tien den tu NAPAS Noi dung: ung ho  dong bao bi thien tai (ct1111) MBBANK IBFT – A/C 46 10/09/2024  18:52:07 Ung ho dong bao bi bao lu Yagi NGUYEN THI THU HUYEN – A/C 47 10/09/2024  18:52:24 NGUYEN THAI CONG chuyen tien cuu tro lu lut  (CT1111) NGUYEN THAI CONG – A/C 300.000 100.000 500.000 500.000 1.000.000 200.000 1.000.000 2.000.000 1.000.000 100.000 200.000 200.000 50.000 200.000 200.000 52.222 200.000 100.000 1.000.000 500.000 500.000 500.000 200.000 50.000 1.000.000 100.000 300.000 1.000.000 1.000.000'}]"
      ]
     },
     "execution_count": 6,
     "metadata": {},
     "output_type": "execute_result"
    }
   ],
   "execution_count": 6
  },
  {
   "metadata": {
    "ExecuteTime": {
     "end_time": "2024-09-18T04:37:18.148566Z",
     "start_time": "2024-09-18T04:37:18.133421Z"
    }
   },
   "cell_type": "code",
   "source": [
    "import re # Extracting text data from the pages\n",
    "text_data = [page['text'] for page in pages_and_texts]\n",
    "\n",
    "# Combining all texts into one string\n",
    "combined_text = ' '.join(text_data)"
   ],
   "id": "289b5000f19a94a3",
   "outputs": [],
   "execution_count": 5
  },
  {
   "metadata": {},
   "cell_type": "code",
   "outputs": [],
   "execution_count": null,
   "source": [
    "# Define a regex pattern to extract the records\n",
    "pattern = r'(\\d{2}/\\d{2}/\\d{4}) +([\\d.]+) (.+?)(?=\\d{2}/\\d{2}/\\d{4}|$)'\n",
    "matches = re.findall(pattern, combined_text)\n",
    "\n",
    "# Convert matches to DataFrame\n",
    "data = []\n",
    "for match in matches:\n",
    "    data.append([match[0], match[1], match[2]])\n",
    "\n",
    "# Create DataFrame\n",
    "df = pd.DataFrame(data, columns=['Date', 'Money', 'Description'])\n"
   ],
   "id": "f3408b4109a8b3bb"
  },
  {
   "metadata": {},
   "cell_type": "code",
   "outputs": [],
   "execution_count": null,
   "source": "df.to_csv(\"./Data/Data_csv/vietcom11.csv\", index=False)",
   "id": "362b58598ce79777"
  }
 ],
 "metadata": {
  "kernelspec": {
   "display_name": "Python 3",
   "language": "python",
   "name": "python3"
  },
  "language_info": {
   "codemirror_mode": {
    "name": "ipython",
    "version": 2
   },
   "file_extension": ".py",
   "mimetype": "text/x-python",
   "name": "python",
   "nbconvert_exporter": "python",
   "pygments_lexer": "ipython2",
   "version": "2.7.6"
  }
 },
 "nbformat": 4,
 "nbformat_minor": 5
}
