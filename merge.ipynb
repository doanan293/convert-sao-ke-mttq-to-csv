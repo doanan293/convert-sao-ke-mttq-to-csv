{
 "cells": [
  {
   "cell_type": "code",
   "id": "initial_id",
   "metadata": {
    "collapsed": true,
    "ExecuteTime": {
     "end_time": "2024-09-18T05:26:24.900198Z",
     "start_time": "2024-09-18T05:26:23.913167Z"
    }
   },
   "source": [
    "import pandas as pd\n",
    "import numpy as np\n",
    "df1 = pd.read_csv('./Data/Data_csv/vietcom1to10.csv')\n",
    "df2 = pd.read_csv('./Data/Data_csv/vietcom11.csv')\n",
    "df3 = pd.read_csv('./Data/Data_csv/vietcom12.csv')\n",
    "df4 = pd.read_csv('./Data/Data_csv/vietcom13.csv')\n",
    "df5 = pd.read_csv('./Data/Data_csv/vietcom14.csv')"
   ],
   "outputs": [],
   "execution_count": 3
  },
  {
   "metadata": {
    "ExecuteTime": {
     "end_time": "2024-09-18T05:27:46.568862Z",
     "start_time": "2024-09-18T05:27:46.557586Z"
    }
   },
   "cell_type": "code",
   "source": "df1 =df1[[\"Date\", \"Money\", \"Description\"]]",
   "id": "8da83fc6666fddcf",
   "outputs": [],
   "execution_count": 8
  },
  {
   "metadata": {
    "ExecuteTime": {
     "end_time": "2024-09-18T05:27:47.624456Z",
     "start_time": "2024-09-18T05:27:47.586934Z"
    }
   },
   "cell_type": "code",
   "source": "merged = pd.concat([df1, df2, df3, df4, df5], ignore_index=True)",
   "id": "3b03438cf9b5db2d",
   "outputs": [],
   "execution_count": 9
  },
  {
   "metadata": {
    "ExecuteTime": {
     "end_time": "2024-09-18T05:27:56.568729Z",
     "start_time": "2024-09-18T05:27:56.559441Z"
    }
   },
   "cell_type": "code",
   "source": "merged",
   "id": "6c91cfc30d12293",
   "outputs": [
    {
     "data": {
      "text/plain": [
       "               Date    Money  \\\n",
       "0        01/09/2024   50.000   \n",
       "1        01/09/2024   20.000   \n",
       "2        01/09/2024   29.000   \n",
       "3        01/09/2024    3.000   \n",
       "4        01/09/2024    3.000   \n",
       "...             ...      ...   \n",
       "1380631  14/09/2024  500.000   \n",
       "1380632  14/09/2024  100.000   \n",
       "1380633  14/09/2024   50.000   \n",
       "1380634  14/09/2024  100.000   \n",
       "1380635  14/09/2024  200.000   \n",
       "\n",
       "                                               Description  \n",
       "0                         292976.010924.013647.xin cam on   \n",
       "1                                                VCB.CTDK.  \n",
       "2        MBVCB.6916176124.CAO VIET TUAN chuyen tien.CT ...  \n",
       "3             272986.010924.101858.DO DUC LOI chuyen tien   \n",
       "4        020097040509011046122024JDC5013867.96713 .1046...  \n",
       "...                                                    ...  \n",
       "1380631  \"113815.140924.224454.LE THI ANH LAN chuyen ti...  \n",
       "1380632  \"020097042209142244552024LRNW891579.90545.2244...  \n",
       "1380633       \"670554.140924.224451.ung ho bao lu\" 205111   \n",
       "1380634  \"020097042209142244562024RCH5431725.89970.2244...  \n",
       "1380635  \"020097042209142244562024F1CS215189.90553.2244...  \n",
       "\n",
       "[1380636 rows x 3 columns]"
      ],
      "text/html": [
       "<div>\n",
       "<style scoped>\n",
       "    .dataframe tbody tr th:only-of-type {\n",
       "        vertical-align: middle;\n",
       "    }\n",
       "\n",
       "    .dataframe tbody tr th {\n",
       "        vertical-align: top;\n",
       "    }\n",
       "\n",
       "    .dataframe thead th {\n",
       "        text-align: right;\n",
       "    }\n",
       "</style>\n",
       "<table border=\"1\" class=\"dataframe\">\n",
       "  <thead>\n",
       "    <tr style=\"text-align: right;\">\n",
       "      <th></th>\n",
       "      <th>Date</th>\n",
       "      <th>Money</th>\n",
       "      <th>Description</th>\n",
       "    </tr>\n",
       "  </thead>\n",
       "  <tbody>\n",
       "    <tr>\n",
       "      <th>0</th>\n",
       "      <td>01/09/2024</td>\n",
       "      <td>50.000</td>\n",
       "      <td>292976.010924.013647.xin cam on</td>\n",
       "    </tr>\n",
       "    <tr>\n",
       "      <th>1</th>\n",
       "      <td>01/09/2024</td>\n",
       "      <td>20.000</td>\n",
       "      <td>VCB.CTDK.</td>\n",
       "    </tr>\n",
       "    <tr>\n",
       "      <th>2</th>\n",
       "      <td>01/09/2024</td>\n",
       "      <td>29.000</td>\n",
       "      <td>MBVCB.6916176124.CAO VIET TUAN chuyen tien.CT ...</td>\n",
       "    </tr>\n",
       "    <tr>\n",
       "      <th>3</th>\n",
       "      <td>01/09/2024</td>\n",
       "      <td>3.000</td>\n",
       "      <td>272986.010924.101858.DO DUC LOI chuyen tien</td>\n",
       "    </tr>\n",
       "    <tr>\n",
       "      <th>4</th>\n",
       "      <td>01/09/2024</td>\n",
       "      <td>3.000</td>\n",
       "      <td>020097040509011046122024JDC5013867.96713 .1046...</td>\n",
       "    </tr>\n",
       "    <tr>\n",
       "      <th>...</th>\n",
       "      <td>...</td>\n",
       "      <td>...</td>\n",
       "      <td>...</td>\n",
       "    </tr>\n",
       "    <tr>\n",
       "      <th>1380631</th>\n",
       "      <td>14/09/2024</td>\n",
       "      <td>500.000</td>\n",
       "      <td>\"113815.140924.224454.LE THI ANH LAN chuyen ti...</td>\n",
       "    </tr>\n",
       "    <tr>\n",
       "      <th>1380632</th>\n",
       "      <td>14/09/2024</td>\n",
       "      <td>100.000</td>\n",
       "      <td>\"020097042209142244552024LRNW891579.90545.2244...</td>\n",
       "    </tr>\n",
       "    <tr>\n",
       "      <th>1380633</th>\n",
       "      <td>14/09/2024</td>\n",
       "      <td>50.000</td>\n",
       "      <td>\"670554.140924.224451.ung ho bao lu\" 205111</td>\n",
       "    </tr>\n",
       "    <tr>\n",
       "      <th>1380634</th>\n",
       "      <td>14/09/2024</td>\n",
       "      <td>100.000</td>\n",
       "      <td>\"020097042209142244562024RCH5431725.89970.2244...</td>\n",
       "    </tr>\n",
       "    <tr>\n",
       "      <th>1380635</th>\n",
       "      <td>14/09/2024</td>\n",
       "      <td>200.000</td>\n",
       "      <td>\"020097042209142244562024F1CS215189.90553.2244...</td>\n",
       "    </tr>\n",
       "  </tbody>\n",
       "</table>\n",
       "<p>1380636 rows × 3 columns</p>\n",
       "</div>"
      ]
     },
     "execution_count": 10,
     "metadata": {},
     "output_type": "execute_result"
    }
   ],
   "execution_count": 10
  },
  {
   "metadata": {
    "ExecuteTime": {
     "end_time": "2024-09-18T05:31:19.363988Z",
     "start_time": "2024-09-18T05:31:17.954826Z"
    }
   },
   "cell_type": "code",
   "source": "merged.to_csv('./Data/Data_csv/vietcom_merged.csv', index=False)",
   "id": "a33ccca9e0eda3dd",
   "outputs": [],
   "execution_count": 12
  }
 ],
 "metadata": {
  "kernelspec": {
   "display_name": "Python 3",
   "language": "python",
   "name": "python3"
  },
  "language_info": {
   "codemirror_mode": {
    "name": "ipython",
    "version": 2
   },
   "file_extension": ".py",
   "mimetype": "text/x-python",
   "name": "python",
   "nbconvert_exporter": "python",
   "pygments_lexer": "ipython2",
   "version": "2.7.6"
  }
 },
 "nbformat": 4,
 "nbformat_minor": 5
}
